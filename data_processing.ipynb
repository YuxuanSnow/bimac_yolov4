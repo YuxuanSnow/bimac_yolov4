{
 "cells": [
  {
   "cell_type": "code",
   "execution_count": 2,
   "metadata": {
    "collapsed": true
   },
   "outputs": [],
   "source": [
    "import os"
   ]
  },
  {
   "cell_type": "code",
   "execution_count": 15,
   "outputs": [],
   "source": [
    "labels = []\n",
    "images = []\n",
    "\n",
    "for f in os.listdir('/home/yuxuan/project/yolov4-tiny-pytorch/bimac/labels'):\n",
    "    labels.append(os.path.splitext(f)[0])\n",
    "\n",
    "for f in os.listdir('/home/yuxuan/project/yolov4-tiny-pytorch/bimac/images'):\n",
    "    images.append(os.path.splitext(f)[0])\n",
    "\n",
    "labels_list = [f for f in os.listdir('/home/yuxuan/project/yolov4-tiny-pytorch/bimac/labels')]\n",
    "images_list = [f for f in os.listdir('/home/yuxuan/project/yolov4-tiny-pytorch/bimac/images')]\n",
    "\n",
    "with open('bimac_images.txt', 'w') as f:\n",
    "    for item in images_list:\n",
    "        f.write(\"%s\\n\" % item)"
   ],
   "metadata": {
    "collapsed": false,
    "pycharm": {
     "name": "#%%\n"
    }
   }
  },
  {
   "cell_type": "code",
   "execution_count": 74,
   "outputs": [
    {
     "name": "stdout",
     "output_type": "stream",
     "text": [
      "train and val size 5413\n",
      "traub suze 5413\n"
     ]
    }
   ],
   "source": [
    "# voc2yolo4.py: generate trainval.txt from images\n",
    "# labels: ./VOCdevkit/VOC2007/Annotation\n",
    "# images: ./VOCdevkit/VOC2007/JPEGImages\n",
    "\n",
    "trainval_percent=1\n",
    "train_percent=1\n",
    "\n",
    "import os\n",
    "import random\n",
    "random.seed(0)\n",
    "\n",
    "labelfilepath=r'./VOCdevkit/VOC2007/Annotation'\n",
    "saveBasePath=r\"./VOCdevkit/VOC2007/ImageSets/Main/\"\n",
    "\n",
    "temp_label = os.listdir(labelfilepath)\n",
    "total_label = []\n",
    "\n",
    "for label in temp_label:\n",
    "    if label.endswith(\".txt\"):\n",
    "        total_label.append(label)\n",
    "\n",
    "num=len(total_label)\n",
    "list=range(num)\n",
    "tv=int(num*trainval_percent)\n",
    "tr=int(tv*train_percent)\n",
    "trainval= random.sample(list,tv)\n",
    "train=random.sample(trainval,tr)\n",
    "\n",
    "print(\"train and val size\",tv)\n",
    "print(\"traub suze\",tr)\n",
    "ftrainval = open(os.path.join(saveBasePath,'trainval.txt'), 'w')\n",
    "ftest = open(os.path.join(saveBasePath,'test.txt'), 'w')\n",
    "ftrain = open(os.path.join(saveBasePath,'train.txt'), 'w')\n",
    "fval = open(os.path.join(saveBasePath,'val.txt'), 'w')\n",
    "\n",
    "for i  in list:\n",
    "    name=total_label[i][:-4]+'\\n'\n",
    "    if i in trainval:\n",
    "        ftrainval.write(name)\n",
    "        if i in train:\n",
    "            ftrain.write(name)\n",
    "        else:\n",
    "            fval.write(name)\n",
    "    else:\n",
    "        ftest.write(name)\n",
    "\n",
    "ftrainval.close()\n",
    "ftrain.close()\n",
    "fval.close()\n",
    "ftest .close()"
   ],
   "metadata": {
    "collapsed": false,
    "pycharm": {
     "name": "#%%\n"
    }
   }
  },
  {
   "cell_type": "code",
   "execution_count": 75,
   "outputs": [],
   "source": [
    "# voc_annotation.py: assign object and bounding box to the image name\n",
    "# change classes into the class in the labels\n",
    "\n",
    "sets=[('2007', 'train'), ('2007', 'val'), ('2007', 'test')]\n",
    "classes = [\"0\", \"1\", \"2\", \"3\", \"4\",\"5\", \"6\", \"7\", \"8\", \"9\", \"10\", \"11\", \"12\", \"13\", \"14\", \"15\"]\n",
    "\n",
    "wd = os.getcwd()\n",
    "\n",
    "def convert_annotation(year, image_id, list_file):\n",
    "    with open('VOCdevkit/VOC%s/Annotation/%s.txt'%(year, image_id), encoding='utf-8') as objects:\n",
    "        for object in objects:\n",
    "            single_object = object.split()\n",
    "\n",
    "            if single_object[0] not in classes:\n",
    "                print(\"Class %s not found\"%single_object[0])\n",
    "            else:\n",
    "                b = (int((float(single_object[1])-float(single_object[3])/2)*640),\n",
    "                     int((float(single_object[1])+float(single_object[3])/2)*640),\n",
    "                     int((float(single_object[2])-float(single_object[4])/2)*480),\n",
    "                     int((float(single_object[2])+float(single_object[4])/2)*480))\n",
    "                list_file.write(\" \" + \",\".join([str(a) for a in b]) + ',' + str(single_object[0]))\n",
    "\"\"\"\n",
    "for year, image_set in sets:\n",
    "    img_ids = open('VOCdevkit/VOC%s/ImageSets/Main/%s.txt'%(year, image_set)).read().strip().split()\n",
    "    list_file = open('%s_%s.txt'%(year, image_set), 'w')\n",
    "    for img_id in img_ids:\n",
    "        list_file.write('%s/VOCdevkit/VOC%s/JPEGImages/%s.jpg'%(wd, year, img_id))\n",
    "        convert_annotation(year, img_id, list_file)\n",
    "        list_file.write('\\n')\n",
    "    list_file.close()\n",
    "\"\"\"\n",
    "\n",
    "for year, image_set in sets:\n",
    "    img_ids = open('VOCdevkit/VOC%s/ImageSets/Main/%s.txt'%(year, image_set)).read().strip().split()\n",
    "    list_file = open('%s_%s.txt'%(year, image_set), 'w')\n",
    "    for img_id in img_ids:\n",
    "        list_file.write('%s/VOCdevkit/VOC%s/JPEGImages/%s.jpg'%(wd, year, img_id))\n",
    "        convert_annotation(year, img_id, list_file)\n",
    "        list_file.write('\\n')\n",
    "    list_file.close()"
   ],
   "metadata": {
    "collapsed": false,
    "pycharm": {
     "name": "#%%\n"
    }
   }
  },
  {
   "cell_type": "code",
   "execution_count": 70,
   "outputs": [
    {
     "data": {
      "text/plain": "'\\nlabels_list = [f for f in os.listdir(\\'/home/yuxuan/project/yolov4-tiny-pytorch/bimac/labels\\')]\\nimages_list = [f for f in os.listdir(\\'/home/yuxuan/project/yolov4-tiny-pytorch/bimac/images\\')]\\n\\n\\nwith open(\\'bimac_images.txt\\', \\'w\\') as f:\\n    for item in images_list:\\n        f.write(\"%s\\n\" % item)\\n'"
     },
     "execution_count": 70,
     "metadata": {},
     "output_type": "execute_result"
    }
   ],
   "source": [
    "labels = []\n",
    "images = []\n",
    "\n",
    "for f in os.listdir('/home/yuxuan/project/yolov4-tiny-pytorch/VOCdevkit/VOC2007/Annotations'):\n",
    "    labels.append(os.path.splitext(f)[0])\n",
    "\n",
    "for f in os.listdir('/home/yuxuan/project/yolov4-tiny-pytorch/VOCdevkit/VOC2007/JPEGImages'):\n",
    "    images.append(os.path.splitext(f)[0])\n",
    "\n",
    "\"\"\"\n",
    "labels_list = [f for f in os.listdir('/home/yuxuan/project/yolov4-tiny-pytorch/bimac/labels')]\n",
    "images_list = [f for f in os.listdir('/home/yuxuan/project/yolov4-tiny-pytorch/bimac/images')]\n",
    "\n",
    "\n",
    "with open('bimac_images.txt', 'w') as f:\n",
    "    for item in images_list:\n",
    "        f.write(\"%s\\n\" % item)\n",
    "\"\"\""
   ],
   "metadata": {
    "collapsed": false,
    "pycharm": {
     "name": "#%%\n"
    }
   }
  },
  {
   "cell_type": "code",
   "execution_count": 72,
   "outputs": [],
   "source": [
    "len(labels)\n",
    "count = []\n",
    "for i in labels:\n",
    "    for j in images:\n",
    "        if i==j:\n",
    "            count.append(i)\n",
    "            break"
   ],
   "metadata": {
    "collapsed": false,
    "pycharm": {
     "name": "#%%\n"
    }
   }
  },
  {
   "cell_type": "code",
   "execution_count": 73,
   "outputs": [
    {
     "data": {
      "text/plain": "17125"
     },
     "execution_count": 73,
     "metadata": {},
     "output_type": "execute_result"
    }
   ],
   "source": [
    "x = [i for i in images if i in labels]\n",
    "len(count)"
   ],
   "metadata": {
    "collapsed": false,
    "pycharm": {
     "name": "#%%\n"
    }
   }
  }
 ],
 "metadata": {
  "kernelspec": {
   "display_name": "Python 3",
   "language": "python",
   "name": "python3"
  },
  "language_info": {
   "codemirror_mode": {
    "name": "ipython",
    "version": 2
   },
   "file_extension": ".py",
   "mimetype": "text/x-python",
   "name": "python",
   "nbconvert_exporter": "python",
   "pygments_lexer": "ipython2",
   "version": "2.7.6"
  }
 },
 "nbformat": 4,
 "nbformat_minor": 0
}